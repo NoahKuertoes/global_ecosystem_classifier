{
 "cells": [
  {
   "cell_type": "code",
   "execution_count": 1,
   "metadata": {},
   "outputs": [],
   "source": [
    "import os\n",
    "import pandas as pd\n",
    "import xarray as xr\n",
    "from sqlalchemy import create_engine\n",
    "from dotenv import load_dotenv\n",
    "import earthaccess"
   ]
  },
  {
   "cell_type": "code",
   "execution_count": 1,
   "metadata": {},
   "outputs": [
    {
     "ename": "NameError",
     "evalue": "name 'load_dotenv' is not defined",
     "output_type": "error",
     "traceback": [
      "\u001b[1;31m---------------------------------------------------------------------------\u001b[0m",
      "\u001b[1;31mNameError\u001b[0m                                 Traceback (most recent call last)",
      "Cell \u001b[1;32mIn[1], line 2\u001b[0m\n\u001b[0;32m      1\u001b[0m \u001b[38;5;66;03m# Load environment variables\u001b[39;00m\n\u001b[1;32m----> 2\u001b[0m load_dotenv()\n\u001b[0;32m      3\u001b[0m POSTGRES_USER \u001b[38;5;241m=\u001b[39m os\u001b[38;5;241m.\u001b[39mgetenv(\u001b[38;5;124m'\u001b[39m\u001b[38;5;124mPOSTGRES_USER\u001b[39m\u001b[38;5;124m'\u001b[39m)\n\u001b[0;32m      4\u001b[0m POSTGRES_PASS \u001b[38;5;241m=\u001b[39m os\u001b[38;5;241m.\u001b[39mgetenv(\u001b[38;5;124m'\u001b[39m\u001b[38;5;124mPOSTGRES_PASS\u001b[39m\u001b[38;5;124m'\u001b[39m)\n",
      "\u001b[1;31mNameError\u001b[0m: name 'load_dotenv' is not defined"
     ]
    }
   ],
   "source": [
    "# Load environment variables\n",
    "load_dotenv()\n",
    "POSTGRES_USER = os.getenv('POSTGRES_USER')\n",
    "POSTGRES_PASS = os.getenv('POSTGRES_PASS')\n",
    "POSTGRES_HOST = os.getenv('POSTGRES_HOST')\n",
    "POSTGRES_PORT = os.getenv('POSTGRES_PORT', '5432')\n",
    "POSTGRES_DB = os.getenv('POSTGRES_DB')\n",
    "POSTGRES_SCHEMA = os.getenv('POSTGRES_SCHEMA')  # Load the schema from .env\n",
    "\n",
    "# Create the database connection string\n",
    "connection_string = f\"postgresql://{POSTGRES_USER}:{POSTGRES_PASS}@{POSTGRES_HOST}:{POSTGRES_PORT}/{POSTGRES_DB}\"\n",
    "engine = create_engine(connection_string)\n",
    "\n",
    "for year in range(2020, 2021): \n",
    "    radiance_df = pd.read_csv(f\"ndvi_{year}.csv\")  # Ensure the filename includes '.csv' if needed\n",
    "    table_name = f\"ndvi_{year}\"  # Use the schema variable\n",
    "    radiance_df.to_sql(table_name, engine, if_exists='append', index=False, schema=\"ecosystem_classifier\")\n",
    "    print(f\"Data for {year} uploaded to {table_name} successfully.\")\n"
   ]
  },
  {
   "cell_type": "code",
   "execution_count": 7,
   "metadata": {},
   "outputs": [],
   "source": [
    "import pandas as pd\n",
    "from sqlalchemy import create_engine, text\n",
    "from dotenv import dotenv_values\n",
    "\n",
    "# Load database configuration from .env file\n",
    "config = dotenv_values()\n",
    "pg_user = config['POSTGRES_USER']\n",
    "pg_host = config['POSTGRES_HOST']\n",
    "pg_port = config['POSTGRES_PORT']\n",
    "pg_db = config['POSTGRES_DB']\n",
    "pg_pass = config['POSTGRES_PASS']\n",
    "pg_schema = config['POSTGRES_SCHEMA']\n",
    "\n",
    "# Create the connection URL\n",
    "url = f'postgresql://{pg_user}:{pg_pass}@{pg_host}:{pg_port}/{pg_db}'\n",
    "engine = create_engine(url, echo=False)\n",
    "\n",
    "# SQL query to select the first row of each lon-lat combination\n",
    "query = f\"\"\"\n",
    "    SELECT *           \n",
    "    FROM \"{pg_schema}\".\"20241111_data_to_predict\"\n",
    "\"\"\"\n",
    "\n",
    "# Execute the query and load the result into a DataFrame\n",
    "with engine.connect() as connection:\n",
    "    df = pd.read_sql_query(text(query), connection)\n",
    "\n",
    "# Save the DataFrame to CSV\n",
    "df.to_csv(\"New_Data_to_predict_2020.csv\", index=False)\n"
   ]
  }
 ],
 "metadata": {
  "kernelspec": {
   "display_name": "base",
   "language": "python",
   "name": "python3"
  },
  "language_info": {
   "codemirror_mode": {
    "name": "ipython",
    "version": 3
   },
   "file_extension": ".py",
   "mimetype": "text/x-python",
   "name": "python",
   "nbconvert_exporter": "python",
   "pygments_lexer": "ipython3",
   "version": "3.12.7"
  }
 },
 "nbformat": 4,
 "nbformat_minor": 2
}

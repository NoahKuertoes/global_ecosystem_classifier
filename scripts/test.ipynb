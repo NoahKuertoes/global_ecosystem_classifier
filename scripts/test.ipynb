{
 "cells": [
  {
   "cell_type": "code",
   "execution_count": 7,
   "metadata": {},
   "outputs": [],
   "source": [
    "# IMPORTS\n",
    "import json\n",
    "from fetch_data import fetch_data_from_postgres\n",
    "\n",
    "#LOAD TRAINING LOCATIONS\n",
    "with open(\"../data/training_param.json\", \"r\") as json_file:\n",
    "            training_param = json.load(json_file)"
   ]
  },
  {
   "cell_type": "code",
   "execution_count": 8,
   "metadata": {},
   "outputs": [
    {
     "name": "stdout",
     "output_type": "stream",
     "text": [
      "Paris\n",
      "{'ecosystem': 'Urban-City', 'variables': {'lat_min': 48.815573, 'lat_max': 48.902145, 'lon_min': 2.224199, 'lon_max': 2.469921, 'years': [2020]}}\n",
      "Amazonas\n",
      "{'ecosystem': 'Rainforest', 'variables': {'lat_min': -6.0, 'lat_max': -5.3, 'lon_min': -71.8, 'lon_max': -71.0, 'years': [2020]}}\n"
     ]
    }
   ],
   "source": [
    "for key in training_param.keys():\n",
    "    print(key)\n",
    "    print(training_param[key])"
   ]
  }
 ],
 "metadata": {
  "kernelspec": {
   "display_name": "base",
   "language": "python",
   "name": "python3"
  },
  "language_info": {
   "codemirror_mode": {
    "name": "ipython",
    "version": 3
   },
   "file_extension": ".py",
   "mimetype": "text/x-python",
   "name": "python",
   "nbconvert_exporter": "python",
   "pygments_lexer": "ipython3",
   "version": "3.12.4"
  }
 },
 "nbformat": 4,
 "nbformat_minor": 2
}

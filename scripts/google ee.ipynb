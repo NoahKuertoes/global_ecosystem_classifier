{
 "cells": [
  {
   "cell_type": "code",
   "execution_count": 26,
   "metadata": {},
   "outputs": [],
   "source": [
    "import ee\n",
    "ee.Initialize()"
   ]
  },
  {
   "cell_type": "code",
   "execution_count": 27,
   "metadata": {},
   "outputs": [],
   "source": [
    "# Define the time period for the NDVI composite\n",
    "year = 2022\n",
    "\n",
    "# Set start and end dates using the year variable\n",
    "start_date = f'{year}-01-01'\n",
    "end_date = f'{year}-12-31'\n",
    "\n",
    "# Load the MODIS NDVI dataset and filter by date\n",
    "modis_ndvi = ee.ImageCollection('MODIS/006/MOD13A2') \\\n",
    "              .filterDate(start_date, end_date) \\\n",
    "              .select('NDVI')\n",
    "\n",
    "# Calculate the mean NDVI over the specified period\n",
    "ndvi_composite = modis_ndvi.mean()\n",
    "\n",
    "# Scale NDVI values (MODIS NDVI is scaled by a factor of 0.0001)\n",
    "ndvi_composite = ndvi_composite.multiply(0.0001).rename('NDVI')"
   ]
  },
  {
   "cell_type": "code",
   "execution_count": null,
   "metadata": {},
   "outputs": [],
   "source": [
    "# Define the export parameters\n",
    "task = ee.batch.Export.image.toDrive(\n",
    "    image=ndvi_composite,\n",
    "    description=f'Global_Annual_NDVI_{year}',  # Use f-string to insert year\n",
    "    scale=1000,                               # Set the scale to 1000m (1km resolution)\n",
    "    region=ee.Geometry.BBox(-180, -90, 180, 90),  # Global extent\n",
    "    crs='EPSG:4326',                          # WGS84\n",
    "    fileFormat='GeoTIFF',\n",
    "    maxPixels=1e13                             # Increase this to handle global data\n",
    ")\n",
    "\n",
    "# Start the export task\n",
    "task.start()"
   ]
  },
  {
   "cell_type": "code",
   "execution_count": 7,
   "metadata": {},
   "outputs": [
    {
     "name": "stdout",
     "output_type": "stream",
     "text": [
      "Export started. Check Google Earth Engine Tasks tab to monitor progress.\n"
     ]
    }
   ],
   "source": [
    "import ee\n",
    "ee.Initialize()\n",
    "\n",
    "# Load the Copernicus GLO-30 DEM dataset\n",
    "copernicus_dem = ee.ImageCollection('COPERNICUS/DEM/GLO30').select('DEM').mosaic()\n",
    "\n",
    "# Define the region to include Greenland and northern areas\n",
    "region = ee.Geometry.BBox(-180, -90, 180, 90)\n",
    "\n",
    "# Reproject and resample the DEM to 1 km resolution using mean reducer\n",
    "coarse_copernicus_dem = copernicus_dem.reproject(\n",
    "    crs='EPSG:4326',  # WGS84 projection\n",
    "    scale=1000  # Set the new resolution to 1 km (1000 meters)\n",
    ").reduceResolution(\n",
    "    reducer=ee.Reducer.mean(),  # Compute the mean for 1 km pixels\n",
    "    maxPixels=1024  # Control pixel aggregation\n",
    ")\n",
    "\n",
    "# Export the resampled image at 1 km resolution with mean values\n",
    "task = ee.batch.Export.image.toDrive(\n",
    "    image=coarse_copernicus_dem,\n",
    "    description='Global_Elevation_Copernicus_1km_avg_northern',  # Description for the export task\n",
    "    scale=1000,  # Use the 1 km resolution for export\n",
    "    region=region,  # Adjusted region to include Greenland and northern latitudes\n",
    "    crs='EPSG:4326',  # WGS84 projection\n",
    "    fileFormat='GeoTIFF',\n",
    "    maxPixels=1e13  # Allow large global data exports\n",
    ")\n",
    "\n",
    "# Start the export task\n",
    "task.start()\n",
    "print(\"Export started. Check Google Earth Engine Tasks tab to monitor progress.\")\n"
   ]
  }
 ],
 "metadata": {
  "kernelspec": {
   "display_name": "base",
   "language": "python",
   "name": "python3"
  },
  "language_info": {
   "codemirror_mode": {
    "name": "ipython",
    "version": 3
   },
   "file_extension": ".py",
   "mimetype": "text/x-python",
   "name": "python",
   "nbconvert_exporter": "python",
   "pygments_lexer": "ipython3",
   "version": "3.12.7"
  }
 },
 "nbformat": 4,
 "nbformat_minor": 2
}

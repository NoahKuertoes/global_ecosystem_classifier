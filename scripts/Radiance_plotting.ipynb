{
 "cells": [
  {
   "cell_type": "code",
   "execution_count": 1,
   "metadata": {},
   "outputs": [
    {
     "name": "stdout",
     "output_type": "stream",
     "text": [
      "\n",
      "Processing ../scripts/NTL\\VNL_v21_npp_2014_global_vcmslcfg_c202205302300.average_masked.dat.tif for year 2014...\n",
      "Data for year 2014 rescaled and saved to radiance_2014.csv.\n",
      "Progress: 16.67%\n",
      "\n",
      "Processing ../scripts/NTL\\VNL_v21_npp_2015_global_vcmslcfg_c202205302300.average_masked.dat.tif for year 2015...\n",
      "Data for year 2015 rescaled and saved to radiance_2015.csv.\n",
      "Progress: 33.33%\n",
      "\n",
      "Processing ../scripts/NTL\\VNL_v21_npp_2016_global_vcmslcfg_c202205302300.average_masked.dat.tif for year 2016...\n",
      "Data for year 2016 rescaled and saved to radiance_2016.csv.\n",
      "Progress: 50.00%\n",
      "\n",
      "Processing ../scripts/NTL\\VNL_v21_npp_2017_global_vcmslcfg_c202205302300.average_masked.dat.tif for year 2017...\n",
      "Data for year 2017 rescaled and saved to radiance_2017.csv.\n",
      "Progress: 66.67%\n",
      "\n",
      "Processing ../scripts/NTL\\VNL_v21_npp_2018_global_vcmslcfg_c202205302300.average_masked.dat.tif for year 2018...\n",
      "Data for year 2018 rescaled and saved to radiance_2018.csv.\n",
      "Progress: 83.33%\n",
      "\n",
      "Processing ../scripts/NTL\\VNL_v21_npp_2019_global_vcmslcfg_c202205302300.average_masked.dat.tif for year 2019...\n"
     ]
    },
    {
     "ename": "RasterioIOError",
     "evalue": "VNL_v21_npp_2019_global_vcmslcfg_c202205302300.average_masked.dat.tif: TIFFReadDirectory:Failed to read directory at offset 11612640020",
     "output_type": "error",
     "traceback": [
      "\u001b[1;31m---------------------------------------------------------------------------\u001b[0m",
      "\u001b[1;31mCPLE_AppDefinedError\u001b[0m                      Traceback (most recent call last)",
      "File \u001b[1;32mrasterio\\\\_base.pyx:310\u001b[0m, in \u001b[0;36mrasterio._base.DatasetBase.__init__\u001b[1;34m()\u001b[0m\n",
      "File \u001b[1;32mrasterio\\\\_base.pyx:221\u001b[0m, in \u001b[0;36mrasterio._base.open_dataset\u001b[1;34m()\u001b[0m\n",
      "File \u001b[1;32mrasterio\\\\_err.pyx:359\u001b[0m, in \u001b[0;36mrasterio._err.exc_wrap_pointer\u001b[1;34m()\u001b[0m\n",
      "\u001b[1;31mCPLE_AppDefinedError\u001b[0m: VNL_v21_npp_2019_global_vcmslcfg_c202205302300.average_masked.dat.tif: TIFFReadDirectory:Failed to read directory at offset 11612640020",
      "\nDuring handling of the above exception, another exception occurred:\n",
      "\u001b[1;31mRasterioIOError\u001b[0m                           Traceback (most recent call last)",
      "Cell \u001b[1;32mIn[1], line 75\u001b[0m\n\u001b[0;32m     72\u001b[0m \u001b[38;5;28mprint\u001b[39m(\u001b[38;5;124mf\u001b[39m\u001b[38;5;124m\"\u001b[39m\u001b[38;5;130;01m\\n\u001b[39;00m\u001b[38;5;124mProcessing \u001b[39m\u001b[38;5;132;01m{\u001b[39;00mtif_file\u001b[38;5;132;01m}\u001b[39;00m\u001b[38;5;124m for year \u001b[39m\u001b[38;5;132;01m{\u001b[39;00myear\u001b[38;5;132;01m}\u001b[39;00m\u001b[38;5;124m...\u001b[39m\u001b[38;5;124m\"\u001b[39m)\n\u001b[0;32m     74\u001b[0m \u001b[38;5;66;03m# Step 1: Process the radiance data from the .tif file\u001b[39;00m\n\u001b[1;32m---> 75\u001b[0m process_radiance_file(tif_file, year)\n\u001b[0;32m     77\u001b[0m \u001b[38;5;66;03m# Print a percentage for the progress\u001b[39;00m\n\u001b[0;32m     78\u001b[0m percent_done \u001b[38;5;241m=\u001b[39m (index \u001b[38;5;241m/\u001b[39m total_files) \u001b[38;5;241m*\u001b[39m \u001b[38;5;241m100\u001b[39m\n",
      "Cell \u001b[1;32mIn[1], line 24\u001b[0m, in \u001b[0;36mprocess_radiance_file\u001b[1;34m(tif_path, year)\u001b[0m\n\u001b[0;32m     23\u001b[0m \u001b[38;5;28;01mdef\u001b[39;00m \u001b[38;5;21mprocess_radiance_file\u001b[39m(tif_path, year):\n\u001b[1;32m---> 24\u001b[0m     \u001b[38;5;28;01mwith\u001b[39;00m rasterio\u001b[38;5;241m.\u001b[39mopen(tif_path) \u001b[38;5;28;01mas\u001b[39;00m src:\n\u001b[0;32m     25\u001b[0m         \u001b[38;5;66;03m# Read the first band data, applying the downsampling factor\u001b[39;00m\n\u001b[0;32m     26\u001b[0m         data \u001b[38;5;241m=\u001b[39m src\u001b[38;5;241m.\u001b[39mread(\u001b[38;5;241m1\u001b[39m)[::downsample_factor, ::downsample_factor]  \u001b[38;5;66;03m# Downsample by selecting every nth pixel\u001b[39;00m\n\u001b[0;32m     27\u001b[0m         transform \u001b[38;5;241m=\u001b[39m src\u001b[38;5;241m.\u001b[39mtransform  \u001b[38;5;66;03m# Get the affine transform for geolocation\u001b[39;00m\n",
      "File \u001b[1;32mc:\\Users\\Alexander\\miniconda3\\Lib\\site-packages\\rasterio\\env.py:463\u001b[0m, in \u001b[0;36mensure_env_with_credentials.<locals>.wrapper\u001b[1;34m(*args, **kwds)\u001b[0m\n\u001b[0;32m    460\u001b[0m     session \u001b[38;5;241m=\u001b[39m DummySession()\n\u001b[0;32m    462\u001b[0m \u001b[38;5;28;01mwith\u001b[39;00m env_ctor(session\u001b[38;5;241m=\u001b[39msession):\n\u001b[1;32m--> 463\u001b[0m     \u001b[38;5;28;01mreturn\u001b[39;00m f(\u001b[38;5;241m*\u001b[39margs, \u001b[38;5;241m*\u001b[39m\u001b[38;5;241m*\u001b[39mkwds)\n",
      "File \u001b[1;32mc:\\Users\\Alexander\\miniconda3\\Lib\\site-packages\\rasterio\\__init__.py:368\u001b[0m, in \u001b[0;36mopen\u001b[1;34m(fp, mode, driver, width, height, count, crs, transform, dtype, nodata, sharing, opener, **kwargs)\u001b[0m\n\u001b[0;32m    365\u001b[0m     path \u001b[38;5;241m=\u001b[39m _parse_path(raw_dataset_path)\n\u001b[0;32m    367\u001b[0m \u001b[38;5;28;01mif\u001b[39;00m mode \u001b[38;5;241m==\u001b[39m \u001b[38;5;124m\"\u001b[39m\u001b[38;5;124mr\u001b[39m\u001b[38;5;124m\"\u001b[39m:\n\u001b[1;32m--> 368\u001b[0m     dataset \u001b[38;5;241m=\u001b[39m DatasetReader(path, driver\u001b[38;5;241m=\u001b[39mdriver, sharing\u001b[38;5;241m=\u001b[39msharing, \u001b[38;5;241m*\u001b[39m\u001b[38;5;241m*\u001b[39mkwargs)\n\u001b[0;32m    369\u001b[0m \u001b[38;5;28;01melif\u001b[39;00m mode \u001b[38;5;241m==\u001b[39m \u001b[38;5;124m\"\u001b[39m\u001b[38;5;124mr+\u001b[39m\u001b[38;5;124m\"\u001b[39m:\n\u001b[0;32m    370\u001b[0m     dataset \u001b[38;5;241m=\u001b[39m get_writer_for_path(path, driver\u001b[38;5;241m=\u001b[39mdriver)(\n\u001b[0;32m    371\u001b[0m         path, mode, driver\u001b[38;5;241m=\u001b[39mdriver, sharing\u001b[38;5;241m=\u001b[39msharing, \u001b[38;5;241m*\u001b[39m\u001b[38;5;241m*\u001b[39mkwargs\n\u001b[0;32m    372\u001b[0m     )\n",
      "File \u001b[1;32mrasterio\\\\_base.pyx:312\u001b[0m, in \u001b[0;36mrasterio._base.DatasetBase.__init__\u001b[1;34m()\u001b[0m\n",
      "\u001b[1;31mRasterioIOError\u001b[0m: VNL_v21_npp_2019_global_vcmslcfg_c202205302300.average_masked.dat.tif: TIFFReadDirectory:Failed to read directory at offset 11612640020"
     ]
    }
   ],
   "source": [
    "from dotenv import load_dotenv\n",
    "from sqlalchemy import create_engine\n",
    "import earthaccess\n",
    "import matplotlib.pyplot as plt\n",
    "import numpy as np\n",
    "import os\n",
    "import pandas as pd\n",
    "import rasterio\n",
    "import xarray as xr\n",
    "import glob\n",
    "\n",
    "# Set up the path for the .tif files (assuming they follow a naming pattern like 'VNL_v21_npp_2020_global_vcmslcfg.tif')\n",
    "tif_directory = '../scripts/NTL/'  # Directory where .tif files are stored\n",
    "tif_pattern = \"VNL_v21_npp_*_global_vcmslcfg_c202205302300.average_masked.dat.tif\"  # Adjust this to match filenames\n",
    "\n",
    "# Get all the .tif filenames in the directory\n",
    "tif_files = glob.glob(os.path.join(tif_directory, tif_pattern))\n",
    "\n",
    "# Define downsampling factor\n",
    "downsample_factor = 7\n",
    "\n",
    "# Function to process each year/tif file\n",
    "def process_radiance_file(tif_path, year):\n",
    "    with rasterio.open(tif_path) as src:\n",
    "        # Read the first band data, applying the downsampling factor\n",
    "        data = src.read(1)[::downsample_factor, ::downsample_factor]  # Downsample by selecting every nth pixel\n",
    "        transform = src.transform  # Get the affine transform for geolocation\n",
    "\n",
    "    # Get the dimensions of the downsampled raster\n",
    "    rows, cols = data.shape\n",
    "\n",
    "    # Create arrays of row and column indices for the downsampled data\n",
    "    row_indices, col_indices = np.indices((rows, cols))\n",
    "\n",
    "    # Adjust the transform for downsampling to map geographical coordinates correctly\n",
    "    downsampled_transform = transform * rasterio.Affine.scale(downsample_factor)\n",
    "\n",
    "    # Convert row/col indices to geographical coordinates based on the downsampled transform\n",
    "    lon, lat = rasterio.transform.xy(downsampled_transform, row_indices, col_indices)\n",
    "\n",
    "    # Flatten the arrays and create a DataFrame\n",
    "    df = pd.DataFrame({\n",
    "        'longitude': np.array(lon).flatten(),\n",
    "        'latitude': np.array(lat).flatten(),\n",
    "        'radiance': data.flatten()  # Flatten the data array\n",
    "    })\n",
    "\n",
    "    # Define the function to align to the existing grid\n",
    "    def round_to_grid(value, start, step):\n",
    "        \"\"\"Round to nearest grid point with given start and step.\"\"\"\n",
    "        return np.round((value - start) / step) * step + start\n",
    "\n",
    "    # Apply custom rounding to latitude and longitude to align with Earthdata grid\n",
    "    df['lon'] = df['longitude'].apply(lambda x: round_to_grid(x, -179.875, 0.25)) \n",
    "    df['lat'] = df['latitude'].apply(lambda x: round_to_grid(x, -65.125, 0.25))  # Starting latitude adjusted to -65.125\n",
    "\n",
    "    # Group by the new rounded lat and lon, then calculate the mean radiance\n",
    "    df_rescaled = df.groupby(['lat', 'lon'], as_index=False)['radiance'].mean()\n",
    "\n",
    "    # Save the rescaled DataFrame to a new CSV with the year\n",
    "    csv_rescaled_filename = f'radiance_{year}.csv'\n",
    "    df_rescaled.to_csv(csv_rescaled_filename, index=False)\n",
    "\n",
    "    print(f\"Data for year {year} rescaled and saved to {csv_rescaled_filename}.\")\n",
    "\n",
    "# Loop through all the tif files and process them\n",
    "total_files = len(tif_files)\n",
    "for index, tif_file in enumerate(tif_files, start=1):\n",
    "    # Extract the year based on filename pattern\n",
    "    year = tif_file.split('_')[3]  # Adjusted index to get the correct year from the filename\n",
    "    \n",
    "    print(f\"\\nProcessing {tif_file} for year {year}...\")\n",
    "\n",
    "    # Step 1: Process the radiance data from the .tif file\n",
    "    process_radiance_file(tif_file, year)\n",
    "    \n",
    "    # Print a percentage for the progress\n",
    "    percent_done = (index / total_files) * 100\n",
    "    print(f\"Progress: {percent_done:.2f}%\")\n",
    "\n",
    "print(\"\\nAll files processed successfully!\")\n"
   ]
  },
  {
   "cell_type": "code",
   "execution_count": 2,
   "metadata": {},
   "outputs": [
    {
     "ename": "NameError",
     "evalue": "name 'df_filtered' is not defined",
     "output_type": "error",
     "traceback": [
      "\u001b[1;31m---------------------------------------------------------------------------\u001b[0m",
      "\u001b[1;31mNameError\u001b[0m                                 Traceback (most recent call last)",
      "Cell \u001b[1;32mIn[2], line 7\u001b[0m\n\u001b[0;32m      4\u001b[0m plt\u001b[38;5;241m.\u001b[39mfigure(figsize\u001b[38;5;241m=\u001b[39m(\u001b[38;5;241m48\u001b[39m, \u001b[38;5;241m32\u001b[39m), facecolor\u001b[38;5;241m=\u001b[39m\u001b[38;5;124m'\u001b[39m\u001b[38;5;124mwhite\u001b[39m\u001b[38;5;124m'\u001b[39m)\n\u001b[0;32m      6\u001b[0m \u001b[38;5;66;03m# Scatter plot with color based on radiance, fixed color scale from 0 to 1\u001b[39;00m\n\u001b[1;32m----> 7\u001b[0m scatter \u001b[38;5;241m=\u001b[39m plt\u001b[38;5;241m.\u001b[39mscatter(df_filtered[\u001b[38;5;124m'\u001b[39m\u001b[38;5;124mlon\u001b[39m\u001b[38;5;124m'\u001b[39m], df_filtered[\u001b[38;5;124m'\u001b[39m\u001b[38;5;124mlat\u001b[39m\u001b[38;5;124m'\u001b[39m], c\u001b[38;5;241m=\u001b[39mdf_filtered[\u001b[38;5;124m'\u001b[39m\u001b[38;5;124mradiance\u001b[39m\u001b[38;5;124m'\u001b[39m], cmap\u001b[38;5;241m=\u001b[39m\u001b[38;5;124m'\u001b[39m\u001b[38;5;124mplasma\u001b[39m\u001b[38;5;124m'\u001b[39m, s\u001b[38;5;241m=\u001b[39m\u001b[38;5;241m2\u001b[39m, vmin\u001b[38;5;241m=\u001b[39m\u001b[38;5;241m0\u001b[39m, vmax\u001b[38;5;241m=\u001b[39m\u001b[38;5;241m1\u001b[39m)\n\u001b[0;32m      9\u001b[0m \u001b[38;5;66;03m# Add color bar to indicate radiance levels\u001b[39;00m\n\u001b[0;32m     10\u001b[0m plt\u001b[38;5;241m.\u001b[39mcolorbar(scatter, label\u001b[38;5;241m=\u001b[39m\u001b[38;5;124m'\u001b[39m\u001b[38;5;124mRadiance\u001b[39m\u001b[38;5;124m'\u001b[39m)\n",
      "\u001b[1;31mNameError\u001b[0m: name 'df_filtered' is not defined"
     ]
    },
    {
     "data": {
      "text/plain": [
       "<Figure size 4800x3200 with 0 Axes>"
      ]
     },
     "metadata": {},
     "output_type": "display_data"
    }
   ],
   "source": [
    "import matplotlib.pyplot as plt\n",
    "\n",
    "# Set the figure background color to black\n",
    "plt.figure(figsize=(48, 32), facecolor='white')\n",
    "\n",
    "# Scatter plot with color based on radiance, fixed color scale from 0 to 1\n",
    "scatter = plt.scatter(df_filtered['lon'], df_filtered['lat'], c=df_filtered['radiance'], cmap='plasma', s=2, vmin=0, vmax=1)\n",
    "\n",
    "# Add color bar to indicate radiance levels\n",
    "plt.colorbar(scatter, label='Radiance')\n",
    "\n",
    "# Add labels and title with white text\n",
    "plt.title('Radiance Based on Latitude and Longitude', color='white')\n",
    "plt.xlabel('Longitude', color='white')\n",
    "plt.ylabel('Latitude', color='white')\n",
    "\n",
    "# Set the axis background color to black and the grid color to white for visibility\n",
    "plt.gca().set_facecolor('#1a1a1a')\n",
    "plt.grid(True, color='white')\n",
    "\n",
    "# Change tick labels color to white for better visibility on black background\n",
    "plt.tick_params(axis='both', colors='white')\n",
    "\n",
    "# Display the plot\n",
    "plt.show()\n",
    "\n"
   ]
  },
  {
   "cell_type": "code",
   "execution_count": null,
   "metadata": {},
   "outputs": [],
   "source": []
  },
  {
   "cell_type": "markdown",
   "metadata": {},
   "source": [
    "# Might need to recreate the Downscaling to fit the values in the earthdata tables"
   ]
  },
  {
   "cell_type": "code",
   "execution_count": null,
   "metadata": {},
   "outputs": [
    {
     "ename": "MemoryError",
     "evalue": "Unable to allocate 2.70 GiB for an array with shape (33601, 86401) and data type bool",
     "output_type": "error",
     "traceback": [
      "\u001b[1;31m---------------------------------------------------------------------------\u001b[0m",
      "\u001b[1;31mMemoryError\u001b[0m                               Traceback (most recent call last)",
      "Cell \u001b[1;32mIn[66], line 5\u001b[0m\n\u001b[0;32m      3\u001b[0m \u001b[38;5;66;03m# Create a scatter plot of radiance values based on longitude and latitude\u001b[39;00m\n\u001b[0;32m      4\u001b[0m plt\u001b[38;5;241m.\u001b[39mfigure(figsize\u001b[38;5;241m=\u001b[39m(\u001b[38;5;241m48\u001b[39m, \u001b[38;5;241m24\u001b[39m))\n\u001b[1;32m----> 5\u001b[0m plt\u001b[38;5;241m.\u001b[39mimshow(data, cmap\u001b[38;5;241m=\u001b[39m\u001b[38;5;124m'\u001b[39m\u001b[38;5;124mviridis\u001b[39m\u001b[38;5;124m'\u001b[39m, vmin\u001b[38;5;241m=\u001b[39m\u001b[38;5;241m0\u001b[39m, vmax\u001b[38;5;241m=\u001b[39m\u001b[38;5;241m1\u001b[39m)  \u001b[38;5;66;03m# Set vmin and vmax based on expected data range\u001b[39;00m\n\u001b[0;32m      6\u001b[0m plt\u001b[38;5;241m.\u001b[39mscatter(df[\u001b[38;5;124m'\u001b[39m\u001b[38;5;124mrounded_longitude\u001b[39m\u001b[38;5;124m'\u001b[39m], df[\u001b[38;5;124m'\u001b[39m\u001b[38;5;124mrounded_latitude\u001b[39m\u001b[38;5;124m'\u001b[39m], c\u001b[38;5;241m=\u001b[39mdf[\u001b[38;5;124m'\u001b[39m\u001b[38;5;124mradiance\u001b[39m\u001b[38;5;124m'\u001b[39m], cmap\u001b[38;5;241m=\u001b[39m\u001b[38;5;124m'\u001b[39m\u001b[38;5;124mviridis\u001b[39m\u001b[38;5;124m'\u001b[39m, s\u001b[38;5;241m=\u001b[39m\u001b[38;5;241m0.1\u001b[39m, alpha\u001b[38;5;241m=\u001b[39m\u001b[38;5;241m0.5\u001b[39m)  \u001b[38;5;66;03m# Reduced point size\u001b[39;00m\n\u001b[0;32m      7\u001b[0m plt\u001b[38;5;241m.\u001b[39mcolorbar(label\u001b[38;5;241m=\u001b[39m\u001b[38;5;124m'\u001b[39m\u001b[38;5;124mRadiance\u001b[39m\u001b[38;5;124m'\u001b[39m)\n",
      "File \u001b[1;32mc:\\Users\\Alexander\\miniconda3\\Lib\\site-packages\\matplotlib\\pyplot.py:3358\u001b[0m, in \u001b[0;36mimshow\u001b[1;34m(X, cmap, norm, aspect, interpolation, alpha, vmin, vmax, origin, extent, interpolation_stage, filternorm, filterrad, resample, url, data, **kwargs)\u001b[0m\n\u001b[0;32m   3337\u001b[0m \u001b[38;5;129m@_copy_docstring_and_deprecators\u001b[39m(Axes\u001b[38;5;241m.\u001b[39mimshow)\n\u001b[0;32m   3338\u001b[0m \u001b[38;5;28;01mdef\u001b[39;00m \u001b[38;5;21mimshow\u001b[39m(\n\u001b[0;32m   3339\u001b[0m     X: ArrayLike \u001b[38;5;241m|\u001b[39m PIL\u001b[38;5;241m.\u001b[39mImage\u001b[38;5;241m.\u001b[39mImage,\n\u001b[1;32m   (...)\u001b[0m\n\u001b[0;32m   3356\u001b[0m     \u001b[38;5;241m*\u001b[39m\u001b[38;5;241m*\u001b[39mkwargs,\n\u001b[0;32m   3357\u001b[0m ) \u001b[38;5;241m-\u001b[39m\u001b[38;5;241m>\u001b[39m AxesImage:\n\u001b[1;32m-> 3358\u001b[0m     __ret \u001b[38;5;241m=\u001b[39m gca()\u001b[38;5;241m.\u001b[39mimshow(\n\u001b[0;32m   3359\u001b[0m         X,\n\u001b[0;32m   3360\u001b[0m         cmap\u001b[38;5;241m=\u001b[39mcmap,\n\u001b[0;32m   3361\u001b[0m         norm\u001b[38;5;241m=\u001b[39mnorm,\n\u001b[0;32m   3362\u001b[0m         aspect\u001b[38;5;241m=\u001b[39maspect,\n\u001b[0;32m   3363\u001b[0m         interpolation\u001b[38;5;241m=\u001b[39minterpolation,\n\u001b[0;32m   3364\u001b[0m         alpha\u001b[38;5;241m=\u001b[39malpha,\n\u001b[0;32m   3365\u001b[0m         vmin\u001b[38;5;241m=\u001b[39mvmin,\n\u001b[0;32m   3366\u001b[0m         vmax\u001b[38;5;241m=\u001b[39mvmax,\n\u001b[0;32m   3367\u001b[0m         origin\u001b[38;5;241m=\u001b[39morigin,\n\u001b[0;32m   3368\u001b[0m         extent\u001b[38;5;241m=\u001b[39mextent,\n\u001b[0;32m   3369\u001b[0m         interpolation_stage\u001b[38;5;241m=\u001b[39minterpolation_stage,\n\u001b[0;32m   3370\u001b[0m         filternorm\u001b[38;5;241m=\u001b[39mfilternorm,\n\u001b[0;32m   3371\u001b[0m         filterrad\u001b[38;5;241m=\u001b[39mfilterrad,\n\u001b[0;32m   3372\u001b[0m         resample\u001b[38;5;241m=\u001b[39mresample,\n\u001b[0;32m   3373\u001b[0m         url\u001b[38;5;241m=\u001b[39murl,\n\u001b[0;32m   3374\u001b[0m         \u001b[38;5;241m*\u001b[39m\u001b[38;5;241m*\u001b[39m({\u001b[38;5;124m\"\u001b[39m\u001b[38;5;124mdata\u001b[39m\u001b[38;5;124m\"\u001b[39m: data} \u001b[38;5;28;01mif\u001b[39;00m data \u001b[38;5;129;01mis\u001b[39;00m \u001b[38;5;129;01mnot\u001b[39;00m \u001b[38;5;28;01mNone\u001b[39;00m \u001b[38;5;28;01melse\u001b[39;00m {}),\n\u001b[0;32m   3375\u001b[0m         \u001b[38;5;241m*\u001b[39m\u001b[38;5;241m*\u001b[39mkwargs,\n\u001b[0;32m   3376\u001b[0m     )\n\u001b[0;32m   3377\u001b[0m     sci(__ret)\n\u001b[0;32m   3378\u001b[0m     \u001b[38;5;28;01mreturn\u001b[39;00m __ret\n",
      "File \u001b[1;32mc:\\Users\\Alexander\\miniconda3\\Lib\\site-packages\\matplotlib\\__init__.py:1478\u001b[0m, in \u001b[0;36m_preprocess_data.<locals>.inner\u001b[1;34m(ax, data, *args, **kwargs)\u001b[0m\n\u001b[0;32m   1475\u001b[0m \u001b[38;5;129m@functools\u001b[39m\u001b[38;5;241m.\u001b[39mwraps(func)\n\u001b[0;32m   1476\u001b[0m \u001b[38;5;28;01mdef\u001b[39;00m \u001b[38;5;21minner\u001b[39m(ax, \u001b[38;5;241m*\u001b[39margs, data\u001b[38;5;241m=\u001b[39m\u001b[38;5;28;01mNone\u001b[39;00m, \u001b[38;5;241m*\u001b[39m\u001b[38;5;241m*\u001b[39mkwargs):\n\u001b[0;32m   1477\u001b[0m     \u001b[38;5;28;01mif\u001b[39;00m data \u001b[38;5;129;01mis\u001b[39;00m \u001b[38;5;28;01mNone\u001b[39;00m:\n\u001b[1;32m-> 1478\u001b[0m         \u001b[38;5;28;01mreturn\u001b[39;00m func(ax, \u001b[38;5;241m*\u001b[39m\u001b[38;5;28mmap\u001b[39m(sanitize_sequence, args), \u001b[38;5;241m*\u001b[39m\u001b[38;5;241m*\u001b[39mkwargs)\n\u001b[0;32m   1480\u001b[0m     bound \u001b[38;5;241m=\u001b[39m new_sig\u001b[38;5;241m.\u001b[39mbind(ax, \u001b[38;5;241m*\u001b[39margs, \u001b[38;5;241m*\u001b[39m\u001b[38;5;241m*\u001b[39mkwargs)\n\u001b[0;32m   1481\u001b[0m     auto_label \u001b[38;5;241m=\u001b[39m (bound\u001b[38;5;241m.\u001b[39marguments\u001b[38;5;241m.\u001b[39mget(label_namer)\n\u001b[0;32m   1482\u001b[0m                   \u001b[38;5;129;01mor\u001b[39;00m bound\u001b[38;5;241m.\u001b[39mkwargs\u001b[38;5;241m.\u001b[39mget(label_namer))\n",
      "File \u001b[1;32mc:\\Users\\Alexander\\miniconda3\\Lib\\site-packages\\matplotlib\\axes\\_axes.py:5759\u001b[0m, in \u001b[0;36mAxes.imshow\u001b[1;34m(self, X, cmap, norm, aspect, interpolation, alpha, vmin, vmax, origin, extent, interpolation_stage, filternorm, filterrad, resample, url, **kwargs)\u001b[0m\n\u001b[0;32m   5756\u001b[0m \u001b[38;5;28;01mif\u001b[39;00m aspect \u001b[38;5;129;01mis\u001b[39;00m \u001b[38;5;129;01mnot\u001b[39;00m \u001b[38;5;28;01mNone\u001b[39;00m:\n\u001b[0;32m   5757\u001b[0m     \u001b[38;5;28mself\u001b[39m\u001b[38;5;241m.\u001b[39mset_aspect(aspect)\n\u001b[1;32m-> 5759\u001b[0m im\u001b[38;5;241m.\u001b[39mset_data(X)\n\u001b[0;32m   5760\u001b[0m im\u001b[38;5;241m.\u001b[39mset_alpha(alpha)\n\u001b[0;32m   5761\u001b[0m \u001b[38;5;28;01mif\u001b[39;00m im\u001b[38;5;241m.\u001b[39mget_clip_path() \u001b[38;5;129;01mis\u001b[39;00m \u001b[38;5;28;01mNone\u001b[39;00m:\n\u001b[0;32m   5762\u001b[0m     \u001b[38;5;66;03m# image does not already have clipping set, clip to axes patch\u001b[39;00m\n",
      "File \u001b[1;32mc:\\Users\\Alexander\\miniconda3\\Lib\\site-packages\\matplotlib\\image.py:723\u001b[0m, in \u001b[0;36m_ImageBase.set_data\u001b[1;34m(self, A)\u001b[0m\n\u001b[0;32m    721\u001b[0m \u001b[38;5;28;01mif\u001b[39;00m \u001b[38;5;28misinstance\u001b[39m(A, PIL\u001b[38;5;241m.\u001b[39mImage\u001b[38;5;241m.\u001b[39mImage):\n\u001b[0;32m    722\u001b[0m     A \u001b[38;5;241m=\u001b[39m pil_to_array(A)  \u001b[38;5;66;03m# Needed e.g. to apply png palette.\u001b[39;00m\n\u001b[1;32m--> 723\u001b[0m \u001b[38;5;28mself\u001b[39m\u001b[38;5;241m.\u001b[39m_A \u001b[38;5;241m=\u001b[39m \u001b[38;5;28mself\u001b[39m\u001b[38;5;241m.\u001b[39m_normalize_image_array(A)\n\u001b[0;32m    724\u001b[0m \u001b[38;5;28mself\u001b[39m\u001b[38;5;241m.\u001b[39m_imcache \u001b[38;5;241m=\u001b[39m \u001b[38;5;28;01mNone\u001b[39;00m\n\u001b[0;32m    725\u001b[0m \u001b[38;5;28mself\u001b[39m\u001b[38;5;241m.\u001b[39mstale \u001b[38;5;241m=\u001b[39m \u001b[38;5;28;01mTrue\u001b[39;00m\n",
      "File \u001b[1;32mc:\\Users\\Alexander\\miniconda3\\Lib\\site-packages\\matplotlib\\image.py:686\u001b[0m, in \u001b[0;36m_ImageBase._normalize_image_array\u001b[1;34m(A)\u001b[0m\n\u001b[0;32m    680\u001b[0m \u001b[38;5;129m@staticmethod\u001b[39m\n\u001b[0;32m    681\u001b[0m \u001b[38;5;28;01mdef\u001b[39;00m \u001b[38;5;21m_normalize_image_array\u001b[39m(A):\n\u001b[0;32m    682\u001b[0m \u001b[38;5;250m    \u001b[39m\u001b[38;5;124;03m\"\"\"\u001b[39;00m\n\u001b[0;32m    683\u001b[0m \u001b[38;5;124;03m    Check validity of image-like input *A* and normalize it to a format suitable for\u001b[39;00m\n\u001b[0;32m    684\u001b[0m \u001b[38;5;124;03m    Image subclasses.\u001b[39;00m\n\u001b[0;32m    685\u001b[0m \u001b[38;5;124;03m    \"\"\"\u001b[39;00m\n\u001b[1;32m--> 686\u001b[0m     A \u001b[38;5;241m=\u001b[39m cbook\u001b[38;5;241m.\u001b[39msafe_masked_invalid(A, copy\u001b[38;5;241m=\u001b[39m\u001b[38;5;28;01mTrue\u001b[39;00m)\n\u001b[0;32m    687\u001b[0m     \u001b[38;5;28;01mif\u001b[39;00m A\u001b[38;5;241m.\u001b[39mdtype \u001b[38;5;241m!=\u001b[39m np\u001b[38;5;241m.\u001b[39muint8 \u001b[38;5;129;01mand\u001b[39;00m \u001b[38;5;129;01mnot\u001b[39;00m np\u001b[38;5;241m.\u001b[39mcan_cast(A\u001b[38;5;241m.\u001b[39mdtype, \u001b[38;5;28mfloat\u001b[39m, \u001b[38;5;124m\"\u001b[39m\u001b[38;5;124msame_kind\u001b[39m\u001b[38;5;124m\"\u001b[39m):\n\u001b[0;32m    688\u001b[0m         \u001b[38;5;28;01mraise\u001b[39;00m \u001b[38;5;167;01mTypeError\u001b[39;00m(\u001b[38;5;124mf\u001b[39m\u001b[38;5;124m\"\u001b[39m\u001b[38;5;124mImage data of dtype \u001b[39m\u001b[38;5;132;01m{\u001b[39;00mA\u001b[38;5;241m.\u001b[39mdtype\u001b[38;5;132;01m}\u001b[39;00m\u001b[38;5;124m cannot be \u001b[39m\u001b[38;5;124m\"\u001b[39m\n\u001b[0;32m    689\u001b[0m                         \u001b[38;5;124mf\u001b[39m\u001b[38;5;124m\"\u001b[39m\u001b[38;5;124mconverted to float\u001b[39m\u001b[38;5;124m\"\u001b[39m)\n",
      "File \u001b[1;32mc:\\Users\\Alexander\\miniconda3\\Lib\\site-packages\\matplotlib\\cbook.py:740\u001b[0m, in \u001b[0;36msafe_masked_invalid\u001b[1;34m(x, copy)\u001b[0m\n\u001b[0;32m    738\u001b[0m     x \u001b[38;5;241m=\u001b[39m x\u001b[38;5;241m.\u001b[39mbyteswap(inplace\u001b[38;5;241m=\u001b[39mcopy)\u001b[38;5;241m.\u001b[39mview(x\u001b[38;5;241m.\u001b[39mdtype\u001b[38;5;241m.\u001b[39mnewbyteorder(\u001b[38;5;124m'\u001b[39m\u001b[38;5;124mN\u001b[39m\u001b[38;5;124m'\u001b[39m))\n\u001b[0;32m    739\u001b[0m \u001b[38;5;28;01mtry\u001b[39;00m:\n\u001b[1;32m--> 740\u001b[0m     xm \u001b[38;5;241m=\u001b[39m np\u001b[38;5;241m.\u001b[39mma\u001b[38;5;241m.\u001b[39mmasked_where(\u001b[38;5;241m~\u001b[39m(np\u001b[38;5;241m.\u001b[39misfinite(x)), x, copy\u001b[38;5;241m=\u001b[39m\u001b[38;5;28;01mFalse\u001b[39;00m)\n\u001b[0;32m    741\u001b[0m \u001b[38;5;28;01mexcept\u001b[39;00m \u001b[38;5;167;01mTypeError\u001b[39;00m:\n\u001b[0;32m    742\u001b[0m     \u001b[38;5;28;01mreturn\u001b[39;00m x\n",
      "\u001b[1;31mMemoryError\u001b[0m: Unable to allocate 2.70 GiB for an array with shape (33601, 86401) and data type bool"
     ]
    },
    {
     "data": {
      "image/png": "[encoded data removed]",
      "text/plain": [
       "<Figure size 4800x2400 with 1 Axes>"
      ]
     },
     "metadata": {},
     "output_type": "display_data"
    }
   ],
   "source": [
    "df = pd.read_csv(\"rescaled_radiance_data.csv\")\n",
    "\n",
    "# Create a scatter plot of radiance values based on longitude and latitude\n",
    "plt.figure(figsize=(48, 24))\n",
    "plt.imshow(data, cmap='viridis', vmin=0, vmax=1)  # Set vmin and vmax based on expected data range\n",
    "plt.scatter(df['rounded_longitude'], df['rounded_latitude'], c=df['radiance'], cmap='viridis', s=0.1, alpha=0.5)  # Reduced point size\n",
    "plt.colorbar(label='Radiance')\n",
    "plt.title('Nighttime VIIRS Radiance 2020 (Downsampled)')\n",
    "plt.xlabel('Longitude')\n",
    "plt.ylabel('Latitude')\n",
    "plt.show()\n",
    "plt.show()"
   ]
  },
  {
   "cell_type": "markdown",
   "metadata": {},
   "source": [
    "# **Optional: Try to create an Earthaccess pipeline** #"
   ]
  },
  {
   "cell_type": "code",
   "execution_count": null,
   "metadata": {},
   "outputs": [],
   "source": [
    "# Import required libraries\n",
    "import earthaccess\n",
    "import xarray as xr\n",
    "\n",
    "# Define test parameters\n",
    "auth = earthaccess.login()\n",
    "doi_code = \"10.5067/VIIRS/VNP46A4.001\"  # Assuming this is the DOI for the yearly dataset\n",
    "short_name = \"VNP46A4\"\n",
    "bounding_box = (-180, -90, 180, 90)\n",
    "\n",
    "# Test for a single date\n",
    "year = 2012\n",
    "start_date = f\"{year}-01-01\"\n",
    "\n",
    "try:\n",
    "    # Search for data for the specified date\n",
    "    results = earthaccess.search_data(\n",
    "        doi=doi_code,\n",
    "        temporal=(start_date, start_date),\n",
    "        bounding_box=bounding_box,\n",
    "        short_name=short_name\n",
    "    )\n",
    "    \n",
    "    fs = earthaccess.open(results)\n",
    "\n",
    "    # Test loading one file to inspect its structure\n",
    "    test_file = fs[0]  # Pick the first file to check\n",
    "    ds = xr.open_dataset(test_file)\n",
    "\n",
    "    # Print dataset structure for inspection\n",
    "    print(\"Dataset structure:\")\n",
    "    print(ds)\n",
    "\n",
    "    # Process only if dimensions are suitable\n",
    "    if 'latitude' in ds.dims and 'longitude' in ds.dims:\n",
    "        var_name = 'YourMainVariable'  # Replace with the main variable of interest in your dataset\n",
    "        var_df = ds[var_name].to_dataframe().reset_index()\n",
    "\n",
    "        # Aggregate and save a small sample\n",
    "        aggregated_df = var_df.groupby(['longitude', 'latitude']).agg(\n",
    "            min_value=(var_name, 'min'),\n",
    "            max_value=(var_name, 'max'),\n",
    "            avg_value=(var_name, 'mean')\n",
    "        ).reset_index()\n",
    "\n",
    "        # Save to CSV for inspection\n",
    "        csv_filename = f\"earthdata_{year}_test.csv\"\n",
    "        aggregated_df.to_csv(csv_filename, index=False)\n",
    "        print(f\"Test data saved to {csv_filename}\")\n",
    "    else:\n",
    "        print(\"The dataset lacks expected dimensions (lat/lon). Check dataset structure.\")\n",
    "\n",
    "except Exception as e:\n",
    "    print(f\"An error occurred during the test: {e}\")\n"
   ]
  }
 ],
 "metadata": {
  "kernelspec": {
   "display_name": "base",
   "language": "python",
   "name": "python3"
  },
  "language_info": {
   "codemirror_mode": {
    "name": "ipython",
    "version": 3
   },
   "file_extension": ".py",
   "mimetype": "text/x-python",
   "name": "python",
   "nbconvert_exporter": "python",
   "pygments_lexer": "ipython3",
   "version": "3.12.7"
  }
 },
 "nbformat": 4,
 "nbformat_minor": 2
}
